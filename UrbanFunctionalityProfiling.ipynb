{
 "cells": [
  {
   "cell_type": "code",
   "execution_count": 1,
   "metadata": {},
   "outputs": [],
   "source": [
    "import pandas as pd\n",
    "import numpy as np"
   ]
  },
  {
   "cell_type": "markdown",
   "metadata": {},
   "source": [
    "## the input data is the spatial joined dataframe from DataFrameProcess.ipynb"
   ]
  },
  {
   "cell_type": "code",
   "execution_count": 2,
   "metadata": {},
   "outputs": [],
   "source": [
    "df=pd.read_pickle('firehoseTAZ')"
   ]
  },
  {
   "cell_type": "code",
   "execution_count": 3,
   "metadata": {},
   "outputs": [
    {
     "data": {
      "text/html": [
       "<div>\n",
       "<style scoped>\n",
       "    .dataframe tbody tr th:only-of-type {\n",
       "        vertical-align: middle;\n",
       "    }\n",
       "\n",
       "    .dataframe tbody tr th {\n",
       "        vertical-align: top;\n",
       "    }\n",
       "\n",
       "    .dataframe thead th {\n",
       "        text-align: right;\n",
       "    }\n",
       "</style>\n",
       "<table border=\"1\" class=\"dataframe\">\n",
       "  <thead>\n",
       "    <tr style=\"text-align: right;\">\n",
       "      <th></th>\n",
       "      <th>time</th>\n",
       "      <th>cate</th>\n",
       "      <th>TAZ</th>\n",
       "    </tr>\n",
       "  </thead>\n",
       "  <tbody>\n",
       "    <tr>\n",
       "      <th>0</th>\n",
       "      <td>2017-01-01 00:02:56</td>\n",
       "      <td>Food</td>\n",
       "      <td>95</td>\n",
       "    </tr>\n",
       "    <tr>\n",
       "      <th>1</th>\n",
       "      <td>2017-01-01 00:07:38</td>\n",
       "      <td>Professional &amp; Other Places</td>\n",
       "      <td>95</td>\n",
       "    </tr>\n",
       "    <tr>\n",
       "      <th>2</th>\n",
       "      <td>2017-01-01 00:19:20</td>\n",
       "      <td>Food</td>\n",
       "      <td>95</td>\n",
       "    </tr>\n",
       "    <tr>\n",
       "      <th>3</th>\n",
       "      <td>2017-01-01 00:19:25</td>\n",
       "      <td>Food</td>\n",
       "      <td>95</td>\n",
       "    </tr>\n",
       "    <tr>\n",
       "      <th>4</th>\n",
       "      <td>2017-01-01 00:21:18</td>\n",
       "      <td>Nightlife Spot</td>\n",
       "      <td>95</td>\n",
       "    </tr>\n",
       "  </tbody>\n",
       "</table>\n",
       "</div>"
      ],
      "text/plain": [
       "                 time                         cate  TAZ\n",
       "0 2017-01-01 00:02:56                         Food   95\n",
       "1 2017-01-01 00:07:38  Professional & Other Places   95\n",
       "2 2017-01-01 00:19:20                         Food   95\n",
       "3 2017-01-01 00:19:25                         Food   95\n",
       "4 2017-01-01 00:21:18               Nightlife Spot   95"
      ]
     },
     "execution_count": 3,
     "metadata": {},
     "output_type": "execute_result"
    }
   ],
   "source": [
    "df.head()"
   ]
  },
  {
   "cell_type": "code",
   "execution_count": 4,
   "metadata": {},
   "outputs": [],
   "source": [
    "n=318 # n is the taz number\n",
    "docs=[[]]*n"
   ]
  },
  {
   "cell_type": "code",
   "execution_count": 5,
   "metadata": {},
   "outputs": [],
   "source": [
    "for i in range(len(df)):\n",
    "    taz=df.iloc[i][2]\n",
    "    cate=df.iloc[i][1]\n",
    "    docs[taz].append(cate)"
   ]
  },
  {
   "cell_type": "code",
   "execution_count": 6,
   "metadata": {},
   "outputs": [
    {
     "name": "stderr",
     "output_type": "stream",
     "text": [
      "C:\\Users\\Nicholas\\AppData\\Local\\Programs\\Python\\Python36\\lib\\site-packages\\gensim\\utils.py:1197: UserWarning: detected Windows; aliasing chunkize to chunkize_serial\n",
      "  warnings.warn(\"detected Windows; aliasing chunkize to chunkize_serial\")\n"
     ]
    }
   ],
   "source": [
    "# Importing Gensim\n",
    "import gensim\n",
    "from gensim import corpora\n",
    "\n",
    "# Creating the term dictionary of our courpus, where every unique term is assigned an index. \n",
    "dictionary = corpora.Dictionary(docs)\n",
    "\n",
    "# Converting list of documents (corpus) into Document Term Matrix using dictionary prepared above.\n",
    "docs_matrix = [dictionary.doc2bow(doc) for doc in docs]"
   ]
  },
  {
   "cell_type": "code",
   "execution_count": 7,
   "metadata": {},
   "outputs": [],
   "source": [
    "# Creating the object for LDA model using gensim library\n",
    "Lda = gensim.models.ldamodel.LdaModel\n",
    "\n",
    "# Running and Trainign LDA model on the document term matrix.\n",
    "ldamodel = Lda(docs_matrix, num_topics=5, id2word = dictionary, passes=1000)"
   ]
  },
  {
   "cell_type": "code",
   "execution_count": 8,
   "metadata": {},
   "outputs": [
    {
     "name": "stdout",
     "output_type": "stream",
     "text": [
      "[(0, '0.201*\"Food\" + 0.180*\"Shop & Service\" + 0.160*\"Outdoors & Recreation\" + 0.156*\"Professional & Other Places\" + 0.134*\"Travel & Transport\" + 0.104*\"Nightlife Spot\" + 0.038*\"Arts & Entertainment\" + 0.018*\"College & University\" + 0.010*\"Event\"'), (1, '0.114*\"Food\" + 0.113*\"Shop & Service\" + 0.113*\"Travel & Transport\" + 0.112*\"Outdoors & Recreation\" + 0.112*\"Professional & Other Places\" + 0.109*\"Nightlife Spot\" + 0.109*\"Arts & Entertainment\" + 0.109*\"College & University\" + 0.109*\"Event\"'), (2, '0.222*\"Food\" + 0.216*\"Outdoors & Recreation\" + 0.160*\"Travel & Transport\" + 0.122*\"Shop & Service\" + 0.121*\"Professional & Other Places\" + 0.084*\"Nightlife Spot\" + 0.044*\"Arts & Entertainment\" + 0.019*\"College & University\" + 0.014*\"Event\"'), (3, '0.218*\"Outdoors & Recreation\" + 0.209*\"Travel & Transport\" + 0.195*\"Food\" + 0.132*\"Shop & Service\" + 0.093*\"Professional & Other Places\" + 0.080*\"Nightlife Spot\" + 0.046*\"Arts & Entertainment\" + 0.017*\"College & University\" + 0.011*\"Event\"'), (4, '0.220*\"Outdoors & Recreation\" + 0.178*\"Food\" + 0.158*\"Professional & Other Places\" + 0.153*\"Travel & Transport\" + 0.137*\"Shop & Service\" + 0.083*\"Nightlife Spot\" + 0.043*\"Arts & Entertainment\" + 0.014*\"College & University\" + 0.014*\"Event\"')]\n"
     ]
    }
   ],
   "source": [
    "print(ldamodel.print_topics(num_topics=5, num_words=9)) # num_topics are guided by the New York City zoning and land use data [1]"
   ]
  },
  {
   "cell_type": "code",
   "execution_count": 9,
   "metadata": {},
   "outputs": [],
   "source": [
    "tazs=[]"
   ]
  },
  {
   "cell_type": "code",
   "execution_count": 10,
   "metadata": {},
   "outputs": [],
   "source": [
    "for i in range(n):\n",
    "    topp=[x[1] for x in ldamodel.get_document_topics(docs_matrix[i])]\n",
    "    tazs.append(topp.index(max(topp)))"
   ]
  },
  {
   "cell_type": "markdown",
   "metadata": {},
   "source": [
    "### now we have assigned topics to every taz, the result will be fed into GIS interface for visualization"
   ]
  }
 ],
 "metadata": {
  "kernelspec": {
   "display_name": "Python 3",
   "language": "python",
   "name": "python3"
  },
  "language_info": {
   "codemirror_mode": {
    "name": "ipython",
    "version": 3
   },
   "file_extension": ".py",
   "mimetype": "text/x-python",
   "name": "python",
   "nbconvert_exporter": "python",
   "pygments_lexer": "ipython3",
   "version": "3.6.5"
  }
 },
 "nbformat": 4,
 "nbformat_minor": 2
}

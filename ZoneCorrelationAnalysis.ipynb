{
 "cells": [
  {
   "cell_type": "code",
   "execution_count": 1,
   "metadata": {},
   "outputs": [],
   "source": [
    "import scipy\n",
    "import scipy.stats\n",
    "import pandas as pd\n",
    "import numpy as np\n",
    "from tqdm import tqdm\n",
    "import time"
   ]
  },
  {
   "cell_type": "code",
   "execution_count": 3,
   "metadata": {},
   "outputs": [],
   "source": [
    "df = pd.read_pickle('firehoseTAZ')"
   ]
  },
  {
   "cell_type": "code",
   "execution_count": 5,
   "metadata": {},
   "outputs": [],
   "source": [
    "df['minute_of_day'] = df['time'].dt.hour*60+df['time'].dt.minute"
   ]
  },
  {
   "cell_type": "code",
   "execution_count": 6,
   "metadata": {},
   "outputs": [
    {
     "data": {
      "text/html": [
       "<div>\n",
       "<style scoped>\n",
       "    .dataframe tbody tr th:only-of-type {\n",
       "        vertical-align: middle;\n",
       "    }\n",
       "\n",
       "    .dataframe tbody tr th {\n",
       "        vertical-align: top;\n",
       "    }\n",
       "\n",
       "    .dataframe thead th {\n",
       "        text-align: right;\n",
       "    }\n",
       "</style>\n",
       "<table border=\"1\" class=\"dataframe\">\n",
       "  <thead>\n",
       "    <tr style=\"text-align: right;\">\n",
       "      <th></th>\n",
       "      <th>time</th>\n",
       "      <th>cate</th>\n",
       "      <th>TAZ</th>\n",
       "      <th>minute_of_day</th>\n",
       "    </tr>\n",
       "  </thead>\n",
       "  <tbody>\n",
       "    <tr>\n",
       "      <th>0</th>\n",
       "      <td>2017-01-01 00:02:56</td>\n",
       "      <td>Food</td>\n",
       "      <td>95</td>\n",
       "      <td>2</td>\n",
       "    </tr>\n",
       "    <tr>\n",
       "      <th>1</th>\n",
       "      <td>2017-01-01 00:07:38</td>\n",
       "      <td>Professional &amp; Other Places</td>\n",
       "      <td>95</td>\n",
       "      <td>7</td>\n",
       "    </tr>\n",
       "    <tr>\n",
       "      <th>2</th>\n",
       "      <td>2017-01-01 00:19:20</td>\n",
       "      <td>Food</td>\n",
       "      <td>95</td>\n",
       "      <td>19</td>\n",
       "    </tr>\n",
       "    <tr>\n",
       "      <th>3</th>\n",
       "      <td>2017-01-01 00:19:25</td>\n",
       "      <td>Food</td>\n",
       "      <td>95</td>\n",
       "      <td>19</td>\n",
       "    </tr>\n",
       "    <tr>\n",
       "      <th>4</th>\n",
       "      <td>2017-01-01 00:21:18</td>\n",
       "      <td>Nightlife Spot</td>\n",
       "      <td>95</td>\n",
       "      <td>21</td>\n",
       "    </tr>\n",
       "  </tbody>\n",
       "</table>\n",
       "</div>"
      ],
      "text/plain": [
       "                 time                         cate  TAZ  minute_of_day\n",
       "0 2017-01-01 00:02:56                         Food   95              2\n",
       "1 2017-01-01 00:07:38  Professional & Other Places   95              7\n",
       "2 2017-01-01 00:19:20                         Food   95             19\n",
       "3 2017-01-01 00:19:25                         Food   95             19\n",
       "4 2017-01-01 00:21:18               Nightlife Spot   95             21"
      ]
     },
     "execution_count": 6,
     "metadata": {},
     "output_type": "execute_result"
    }
   ],
   "source": [
    "df.head()"
   ]
  },
  {
   "cell_type": "code",
   "execution_count": 26,
   "metadata": {},
   "outputs": [],
   "source": [
    "w=10 #sequenceLength\n",
    "timeLimit=120 #the time window upbound for analyzing the farthest check-in sequence. here I set it as 2 hour for demo\n",
    "n=318 #number of zones\n",
    "T=1440 #i use one minute as temporal resolution\n",
    "r_threshold=0.39"
   ]
  },
  {
   "cell_type": "code",
   "execution_count": 14,
   "metadata": {},
   "outputs": [],
   "source": [
    "arrival_t=np.zeros((n,T))"
   ]
  },
  {
   "cell_type": "code",
   "execution_count": 15,
   "metadata": {},
   "outputs": [],
   "source": [
    "for i in range(len(df)):\n",
    "    arrival_t[df.loc[i,'TAZ']-1][df.loc[i,'minute_of_day']]+=1"
   ]
  },
  {
   "cell_type": "code",
   "execution_count": 16,
   "metadata": {},
   "outputs": [],
   "source": [
    "arrival_t_pad=np.asarray([np.append(x,x[:w+timeLimit]) for x in arrival_t])"
   ]
  },
  {
   "cell_type": "code",
   "execution_count": 17,
   "metadata": {},
   "outputs": [
    {
     "data": {
      "text/plain": [
       "(318, 1570)"
      ]
     },
     "execution_count": 17,
     "metadata": {},
     "output_type": "execute_result"
    }
   ],
   "source": [
    "arrival_t_pad.shape"
   ]
  },
  {
   "cell_type": "code",
   "execution_count": 19,
   "metadata": {},
   "outputs": [],
   "source": [
    "sequence_t=[]\n",
    "for i in range(n):\n",
    "    for t in range(T+timeLimit):\n",
    "        sequence_t.append(arrival_t_pad[i][t:t+w])    "
   ]
  },
  {
   "cell_type": "code",
   "execution_count": 27,
   "metadata": {},
   "outputs": [],
   "source": [
    "def frictionGene(w,timelimit,n,T,sequence_t,r_threshold):\n",
    "    friction=np.zeros([n,n,T,T]) #we need to have both departure time and arrival time for time foot of dynamic OD estimation\n",
    "    for i in range(n):\n",
    "        for t in range(T):\n",
    "            if np.var(sequence_t[i*T+t])!=0:\n",
    "                x=sequence_t[i*timeCount+t]\n",
    "                for j in range(n):\n",
    "                    for d in range(t,t+timelimit):\n",
    "                        if np.var(sequence_t[j*T+d])!=0:\n",
    "                            y=sequence_t[j*T+d]\n",
    "                            r=np.nan_to_num(scipy.stats.pearsonr(x,y))\n",
    "                            friction[i][t][j][d]=np.where(abs(r)>=r_threshold,abs(r),0)\n",
    "    return friction"
   ]
  },
  {
   "cell_type": "code",
   "execution_count": 30,
   "metadata": {},
   "outputs": [],
   "source": [
    "R=frictionGene(w,timeLimit,n,T,sequence_t,r_threshold)"
   ]
  },
  {
   "cell_type": "markdown",
   "metadata": {},
   "source": [
    "### now we have the zone correlation matrix"
   ]
  }
 ],
 "metadata": {
  "kernelspec": {
   "display_name": "Python 3",
   "language": "python",
   "name": "python3"
  },
  "language_info": {
   "codemirror_mode": {
    "name": "ipython",
    "version": 3
   },
   "file_extension": ".py",
   "mimetype": "text/x-python",
   "name": "python",
   "nbconvert_exporter": "python",
   "pygments_lexer": "ipython3",
   "version": "3.6.5"
  }
 },
 "nbformat": 4,
 "nbformat_minor": 2
}

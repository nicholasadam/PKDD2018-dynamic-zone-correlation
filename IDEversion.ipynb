{
 "cells": [
  {
   "cell_type": "code",
   "execution_count": 1,
   "metadata": {},
   "outputs": [],
   "source": [
    "import os \n",
    "import numpy as np\n",
    "import matplotlib.pyplot as plt\n",
    "import numpy as np\n",
    "os.getcwd()\n",
    "from tripDistributionLaw import *\n",
    "from tripDistributionConstrain import *\n",
    "from ODMOE import *\n",
    "from PPMC import *"
   ]
  },
  {
   "cell_type": "code",
   "execution_count": 2,
   "metadata": {},
   "outputs": [],
   "source": [
    "#plt.plot(dR(dij),tripLengthFrequency(OD,dij),'-*',dR(dij),tripLengthFrequency(predict,dij),'-*')\n",
    "#predict=PPMC(mi,mj,OD.transpose(),10)"
   ]
  },
  {
   "cell_type": "code",
   "execution_count": 3,
   "metadata": {
    "scrolled": true
   },
   "outputs": [
    {
     "data": {
      "text/plain": [
       "'\\nUM(predictedOD,Oi)\\nPCM(predictedOD,Oi)\\nACM(predictedOD,Dj)\\nDCM(predictedOD,Oi,Dj,maxIter, clousure)\\n'"
      ]
     },
     "execution_count": 3,
     "metadata": {},
     "output_type": "execute_result"
    }
   ],
   "source": [
    "\"\"\"\n",
    "NGravExp(dij,mi,mj,beta,OD)\n",
    "NGravPow(dij,mi,mj,beta,OD)\n",
    "Schneider(sij,mi,mj,beta,OD)\n",
    "Rad(sij,mi,mj,beta,OD)\n",
    "PPMC(mi, mj, friction,inter)\n",
    "\"\"\"\n",
    "\"\"\"\n",
    "tripLengthFrequency(OD,distance)\n",
    "dR(distance)\n",
    "CR(predicttlf,referencetlf)\n",
    "ODplot(predict,reference)\n",
    "\"\"\"\n",
    "\"\"\"\n",
    "UM(predictedOD,Oi)\n",
    "PCM(predictedOD,Oi)\n",
    "ACM(predictedOD,Dj)\n",
    "DCM(predictedOD,Oi,Dj,maxIter, clousure)\n",
    "\"\"\""
   ]
  },
  {
   "cell_type": "code",
   "execution_count": 4,
   "metadata": {},
   "outputs": [],
   "source": [
    "OD=np.load('OD.npy').astype('int')\n",
    "dij=np.loadtxt('distance.txt')\n",
    "sij=np.load('sij.npy').astype('int64')\n",
    "friction=np.load('friction.npy').astype('float')\n",
    "mi=np.sum(OD, axis=0)\n",
    "mj=Attadj=np.sum(OD, axis=1)\n",
    "beta=0.01\n",
    "maxIter=10\n",
    "closure=0.1"
   ]
  },
  {
   "cell_type": "code",
   "execution_count": 5,
   "metadata": {},
   "outputs": [],
   "source": [
    "#population,sij"
   ]
  },
  {
   "cell_type": "code",
   "execution_count": 6,
   "metadata": {
    "scrolled": false
   },
   "outputs": [
    {
     "name": "stdout",
     "output_type": "stream",
     "text": [
      "(4.69542344052846, 29.677549202750612, 0.6324686666509316)\n",
      "(4.7347612831770896, 29.474711839312462, 0.6242897738392529)\n",
      "(3.319469166567778, 17.62726012634923, 0.6269414613338687)\n",
      "(4.700170088208536, 29.68966747056703, 0.6327358628645532)\n"
     ]
    }
   ],
   "source": [
    "predictout=NGravExp(sij,mi,mj,beta,OD)\n",
    "predict=UM(predictout,mi)\n",
    "print (MOEs(predict,OD,dij))\n",
    "predict=PCM(predictout,mi)\n",
    "print (MOEs(predict,OD,dij))\n",
    "predict=ACM(predictout,mj)\n",
    "print (MOEs(predict,OD,dij))\n",
    "predict=DCM(predictout,mi,mj,maxIter, closure)\n",
    "print (MOEs(predict,OD,dij))"
   ]
  },
  {
   "cell_type": "code",
   "execution_count": 7,
   "metadata": {},
   "outputs": [
    {
     "name": "stdout",
     "output_type": "stream",
     "text": [
      "(4.699853645029864, 29.725170178188275, 0.6326073922300852)\n",
      "(4.737154384715795, 29.51625247483715, 0.6240812665254617)\n",
      "(3.3215458249278114, 17.619302091104853, 0.6267679840434541)\n",
      "(4.6998734227285315, 29.730240341146782, 0.6327692685414267)\n"
     ]
    }
   ],
   "source": [
    "predictout=NGravPow(sij,mi,mj,beta,OD)\n",
    "predict=UM(predictout,mi)\n",
    "print (MOEs(predict,OD,dij))\n",
    "predict=PCM(predictout,mi)\n",
    "print (MOEs(predict,OD,dij))\n",
    "predict=ACM(predictout,mj)\n",
    "print (MOEs(predict,OD,dij))\n",
    "predict=DCM(predictout,mi,mj,maxIter, closure)\n",
    "print (MOEs(predict,OD,dij))"
   ]
  },
  {
   "cell_type": "code",
   "execution_count": 8,
   "metadata": {},
   "outputs": [
    {
     "name": "stdout",
     "output_type": "stream",
     "text": [
      "(6.521340136861674, 40.849651354003406, 0.4248991527041637)\n",
      "(5.153020054586448, 32.60102058717499, 0.5373360144984447)\n",
      "(5.3146631857917015, 35.06977353914725, 0.4461580923864409)\n",
      "(4.646928523397017, 29.226200597238208, 0.6455970877251422)\n"
     ]
    }
   ],
   "source": [
    "predictout=Schneider(sij,mi,mj,beta,OD)\n",
    "predict=UM(predictout,mi)\n",
    "print (MOEs(predict,OD,dij))\n",
    "predict=PCM(predictout,mi)\n",
    "print (MOEs(predict,OD,dij))\n",
    "predict=ACM(predictout,mj)\n",
    "print (MOEs(predict,OD,dij))\n",
    "predict=DCM(predictout,mi,mj,maxIter, closure)\n",
    "print (MOEs(predict,OD,dij))"
   ]
  },
  {
   "cell_type": "code",
   "execution_count": 9,
   "metadata": {},
   "outputs": [
    {
     "name": "stdout",
     "output_type": "stream",
     "text": [
      "(10.259107630236146, 452.53395177754516, 0.5413124545008839)\n",
      "(4.625331276452672, 27.8346934093665, 0.5993272429602545)\n",
      "(9.986630275701119, 722.7547641217533, 0.5664278013824594)\n",
      "(4.689964795696373, 30.639341765611956, 0.6447700522550859)\n"
     ]
    }
   ],
   "source": [
    "predictout=Rad(sij,mi,mj,beta,OD)\n",
    "predict=UM(predictout,mi)\n",
    "print (MOEs(predict,OD,dij))\n",
    "predict=PCM(predictout,mi)\n",
    "print (MOEs(predict,OD,dij))\n",
    "predict=ACM(predictout,mj)\n",
    "print (MOEs(predict,OD,dij))\n",
    "predict=DCM(predictout,mi,mj,maxIter, closure)\n",
    "print (MOEs(predict,OD,dij))"
   ]
  },
  {
   "cell_type": "code",
   "execution_count": 10,
   "metadata": {
    "scrolled": true
   },
   "outputs": [
    {
     "name": "stdout",
     "output_type": "stream",
     "text": [
      "(5.179265060717535, 39.42931556655697, 0.41351271074438734)\n",
      "(5.643388315335628, 113.44393228729895, 0.4146846338250576)\n",
      "(5.7814168743325025, 50.40289095679566, 0.4029515694327432)\n",
      "(6.17956172619754, 52.70166428581068, 0.41391534023771454)\n"
     ]
    }
   ],
   "source": [
    "predictout=PPMC(mi,mj,sij,100)\n",
    "predict=UM(predictout,mi)\n",
    "print (MOEs(predict,OD,dij))\n",
    "predict=PCM(predictout,mi)\n",
    "print (MOEs(predict,OD,dij))\n",
    "predict=ACM(predictout,mj)\n",
    "print (MOEs(predict,OD,dij))\n",
    "predict=DCM(predictout,mi,mj,maxIter, closure)\n",
    "print (MOEs(predict,OD,dij))"
   ]
  },
  {
   "cell_type": "code",
   "execution_count": 11,
   "metadata": {},
   "outputs": [],
   "source": [
    "#distnce"
   ]
  },
  {
   "cell_type": "code",
   "execution_count": 12,
   "metadata": {
    "scrolled": true
   },
   "outputs": [
    {
     "name": "stdout",
     "output_type": "stream",
     "text": [
      "(4.699477868755191, 29.687442767884857, 0.6327178757585676)\n",
      "(4.736106166686445, 29.503104751880105, 0.6240380460986472)\n",
      "(3.319844942842451, 17.617304871019297, 0.6269031911039883)\n",
      "(4.697381432696491, 29.65356713917501, 0.6329851535642782)\n"
     ]
    }
   ],
   "source": [
    "predictout=NGravExp(dij,mi,mj,beta,OD)\n",
    "predict=UM(predictout,mi)\n",
    "print (MOEs(predict,OD,dij))\n",
    "predict=PCM(predictout,mi)\n",
    "print (MOEs(predict,OD,dij))\n",
    "predict=ACM(predictout,mj)\n",
    "print (MOEs(predict,OD,dij))\n",
    "predict=DCM(predictout,mi,mj,maxIter, closure)\n",
    "print (MOEs(predict,OD,dij))"
   ]
  },
  {
   "cell_type": "code",
   "execution_count": 13,
   "metadata": {},
   "outputs": [
    {
     "name": "stdout",
     "output_type": "stream",
     "text": [
      "(4.701317194731221, 29.725798647056894, 0.6324532541529573)\n",
      "(4.735354614137099, 29.496299552167734, 0.6241448301558329)\n",
      "(3.3204778291997945, 17.602958044883472, 0.626686360471899)\n",
      "(4.700486531387208, 29.695458637687697, 0.6325071991691451)\n"
     ]
    }
   ],
   "source": [
    "predictout=NGravPow(dij,mi,mj,beta,OD)\n",
    "predict=UM(predictout,mi)\n",
    "print (MOEs(predict,OD,dij))\n",
    "predict=PCM(predictout,mi)\n",
    "print (MOEs(predict,OD,dij))\n",
    "predict=ACM(predictout,mj)\n",
    "print (MOEs(predict,OD,dij))\n",
    "predict=DCM(predictout,mi,mj,maxIter, closure)\n",
    "print (MOEs(predict,OD,dij))"
   ]
  },
  {
   "cell_type": "code",
   "execution_count": 14,
   "metadata": {},
   "outputs": [
    {
     "name": "stdout",
     "output_type": "stream",
     "text": [
      "(6.515604604248249, 40.764326102085704, 0.42210604089588794)\n",
      "(5.175883074245481, 32.806202178049475, 0.5326483428005823)\n",
      "(5.280764210276492, 34.789518835751785, 0.44866617513991763)\n",
      "(4.66749733001068, 29.416938971046093, 0.639773406209201)\n"
     ]
    }
   ],
   "source": [
    "predictout=Schneider(dij,mi,mj,beta,OD)\n",
    "predict=UM(predictout,mi)\n",
    "print (MOEs(predict,OD,dij))\n",
    "predict=PCM(predictout,mi)\n",
    "print (MOEs(predict,OD,dij))\n",
    "predict=ACM(predictout,mj)\n",
    "print (MOEs(predict,OD,dij))\n",
    "predict=DCM(predictout,mi,mj,maxIter, closure)\n",
    "print (MOEs(predict,OD,dij))"
   ]
  },
  {
   "cell_type": "code",
   "execution_count": 15,
   "metadata": {},
   "outputs": [
    {
     "name": "stdout",
     "output_type": "stream",
     "text": [
      "(10.259107630236146, 452.49312829054537, 0.5412918456274631)\n",
      "(4.625390609548673, 27.822771779048853, 0.5997168921044351)\n",
      "(9.986630275701119, 722.7547641217533, 0.5664278013824594)\n",
      "(4.688085914323009, 30.662340641693703, 0.644757014190885)\n"
     ]
    }
   ],
   "source": [
    "predictout=Rad(sij,mi,mj,beta,OD)\n",
    "predict=UM(predictout,mi)\n",
    "print (MOEs(predict,OD,dij))\n",
    "predict=PCM(predictout,mi)\n",
    "print (MOEs(predict,OD,dij))\n",
    "predict=ACM(predictout,mj)\n",
    "print (MOEs(predict,OD,dij))\n",
    "predict=DCM(predictout,mi,mj,maxIter, closure)\n",
    "print (MOEs(predict,OD,dij))"
   ]
  },
  {
   "cell_type": "code",
   "execution_count": 16,
   "metadata": {},
   "outputs": [
    {
     "name": "stdout",
     "output_type": "stream",
     "text": [
      "(4.931569162612239, 36.351769062752425, 0.43699382092740113)\n",
      "(5.4281871761401845, 110.42633323115895, 0.4403555343288888)\n",
      "(5.654819825165144, 49.12729193535639, 0.4124984853085137)\n",
      "(6.033681420829872, 50.17319522440773, 0.4300569987111539)\n"
     ]
    }
   ],
   "source": [
    "predictout=PPMC(mi,mj,dij,100)\n",
    "predict=UM(predictout,mi)\n",
    "print (MOEs(predict,OD,dij))\n",
    "predict=PCM(predictout,mi)\n",
    "print (MOEs(predict,OD,dij))\n",
    "predict=ACM(predictout,mj)\n",
    "print (MOEs(predict,OD,dij))\n",
    "predict=DCM(predictout,mi,mj,maxIter, closure)\n",
    "print (MOEs(predict,OD,dij))"
   ]
  },
  {
   "cell_type": "code",
   "execution_count": 17,
   "metadata": {},
   "outputs": [],
   "source": [
    "#Friction"
   ]
  },
  {
   "cell_type": "code",
   "execution_count": 18,
   "metadata": {},
   "outputs": [
    {
     "name": "stdout",
     "output_type": "stream",
     "text": [
      "(4.69856809461651, 29.6855457943673, 0.6325996846349224)\n",
      "(4.736600609153119, 29.518727793939323, 0.6241244892527826)\n",
      "(3.3210909378584708, 17.61123995365524, 0.6269899395431631)\n",
      "(4.700308532099205, 29.71576242334511, 0.632741002110485)\n"
     ]
    }
   ],
   "source": [
    "predictout=NGravExp(friction,mi,mj,beta,OD)\n",
    "predict=UM(predictout,mi)\n",
    "print (MOEs(predict,OD,dij))\n",
    "predict=PCM(predictout,mi)\n",
    "print (MOEs(predict,OD,dij))\n",
    "predict=ACM(predictout,mj)\n",
    "print (MOEs(predict,OD,dij))\n",
    "predict=DCM(predictout,mi,mj,maxIter, closure)\n",
    "print (MOEs(predict,OD,dij))"
   ]
  },
  {
   "cell_type": "code",
   "execution_count": 19,
   "metadata": {},
   "outputs": [
    {
     "name": "stdout",
     "output_type": "stream",
     "text": [
      "(4.70250385665124, 29.726712433080596, 0.6330956882289327)\n",
      "(4.737233495510463, 29.529188137746495, 0.6242974031708063)\n",
      "(3.3226929314504963, 17.636382564037316, 0.6265945437441206)\n",
      "(4.700446975989874, 29.708332610401353, 0.6325303195532204)\n"
     ]
    }
   ],
   "source": [
    "predictout=NGravPow(friction,mi,mj,beta,OD)\n",
    "predict=UM(predictout,mi)\n",
    "print (MOEs(predict,OD,dij))\n",
    "predict=PCM(predictout,mi)\n",
    "print (MOEs(predict,OD,dij))\n",
    "predict=ACM(predictout,mj)\n",
    "print (MOEs(predict,OD,dij))\n",
    "predict=DCM(predictout,mi,mj,maxIter, closure)\n",
    "print (MOEs(predict,OD,dij))"
   ]
  },
  {
   "cell_type": "code",
   "execution_count": 20,
   "metadata": {},
   "outputs": [
    {
     "name": "stdout",
     "output_type": "stream",
     "text": [
      "(6.610774890233772, 41.492459337485855, 0.41006988900940305)\n",
      "(5.274118903524386, 33.67491194688474, 0.5184240877237151)\n",
      "(5.440350460820379, 36.304271467706144, 0.4296549756841714)\n",
      "(4.706360507891302, 29.835734431418818, 0.6317497267157922)\n"
     ]
    }
   ],
   "source": [
    "predictout=Schneider(friction,mi,mj,beta,OD)\n",
    "predict=UM(predictout,mi)\n",
    "print (MOEs(predict,OD,dij))\n",
    "predict=PCM(predictout,mi)\n",
    "print (MOEs(predict,OD,dij))\n",
    "predict=ACM(predictout,mj)\n",
    "print (MOEs(predict,OD,dij))\n",
    "predict=DCM(predictout,mi,mj,maxIter, closure)\n",
    "print (MOEs(predict,OD,dij))"
   ]
  },
  {
   "cell_type": "code",
   "execution_count": 21,
   "metadata": {},
   "outputs": [
    {
     "name": "stdout",
     "output_type": "stream",
     "text": [
      "(10.259107630236146, 451.5966617892856, 0.5398985910810022)\n",
      "(4.63150191843677, 27.86351044202953, 0.5985805352115715)\n",
      "(9.98623472172778, 721.6159284085279, 0.5654799539459091)\n",
      "(4.694632332581781, 30.71833220555944, 0.6437510991962203)\n"
     ]
    }
   ],
   "source": [
    "predictout=Rad(friction,mi,mj,beta,OD)\n",
    "predict=UM(predictout,mi)\n",
    "print (MOEs(predict,OD,dij))\n",
    "predict=PCM(predictout,mi)\n",
    "print (MOEs(predict,OD,dij))\n",
    "predict=ACM(predictout,mj)\n",
    "print (MOEs(predict,OD,dij))\n",
    "predict=DCM(predictout,mi,mj,maxIter, closure)\n",
    "print (MOEs(predict,OD,dij))"
   ]
  },
  {
   "cell_type": "code",
   "execution_count": 22,
   "metadata": {},
   "outputs": [
    {
     "name": "stdout",
     "output_type": "stream",
     "text": [
      "(3.3634547684031486, 17.74222751729735, 0.6402089466344983)\n",
      "(4.209089830307345, 106.96389388515213, 0.6337026101334594)\n",
      "(4.242909695027887, 28.36705280873533, 0.6331162544686919)\n",
      "(4.814643408093034, 31.150537572220905, 0.633386234389465)\n"
     ]
    }
   ],
   "source": [
    "predictout=PPMC(mi,mj,friction,100)\n",
    "predict=UM(predictout,mi)\n",
    "print (MOEs(predict,OD,dij))\n",
    "predict=PCM(predictout,mi)\n",
    "print (MOEs(predict,OD,dij))\n",
    "predict=ACM(predictout,mj)\n",
    "print (MOEs(predict,OD,dij))\n",
    "predict=DCM(predictout,mi,mj,maxIter, closure)\n",
    "print (MOEs(predict,OD,dij))"
   ]
  },
  {
   "cell_type": "code",
   "execution_count": 24,
   "metadata": {},
   "outputs": [
    {
     "name": "stdout",
     "output_type": "stream",
     "text": [
      "(0.2979905858154345, 0.1518465610607629, 0.9869343384431523)\n",
      "(2.3725129543926267, 75.45278097474365, 0.9454274741595289)\n",
      "(3.473992326252917, 24.019204929046637, 0.9212991856939937)\n",
      "(3.2392705984731616, 23.72241725320548, 0.9722332060894561)\n"
     ]
    }
   ],
   "source": [
    "predictout=PPMC(mi,mj,OD.transpose(),100)\n",
    "predict=UM(predictout,mi)\n",
    "print (MOEs(predict,OD,dij))\n",
    "predict=PCM(predictout,mi)\n",
    "print (MOEs(predict,OD,dij))\n",
    "predict=ACM(predictout,mj)\n",
    "print (MOEs(predict,OD,dij))\n",
    "predict=DCM(predictout,mi,mj,maxIter, closure)\n",
    "print (MOEs(predict,OD,dij))"
   ]
  },
  {
   "cell_type": "code",
   "execution_count": 27,
   "metadata": {},
   "outputs": [],
   "source": [
    "np.save('predict.npy', predict)"
   ]
  },
  {
   "cell_type": "code",
   "execution_count": null,
   "metadata": {},
   "outputs": [],
   "source": []
  }
 ],
 "metadata": {
  "kernelspec": {
   "display_name": "Python 3",
   "language": "python",
   "name": "python3"
  },
  "language_info": {
   "codemirror_mode": {
    "name": "ipython",
    "version": 3
   },
   "file_extension": ".py",
   "mimetype": "text/x-python",
   "name": "python",
   "nbconvert_exporter": "python",
   "pygments_lexer": "ipython3",
   "version": "3.5.4"
  }
 },
 "nbformat": 4,
 "nbformat_minor": 2
}

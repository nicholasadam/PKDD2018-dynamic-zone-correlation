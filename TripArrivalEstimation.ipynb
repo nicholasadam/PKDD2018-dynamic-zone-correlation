{
 "cells": [
  {
   "cell_type": "code",
   "execution_count": 46,
   "metadata": {},
   "outputs": [],
   "source": [
    "import numpy as np\n",
    "import pandas as pd"
   ]
  },
  {
   "cell_type": "code",
   "execution_count": 167,
   "metadata": {},
   "outputs": [],
   "source": [
    "def Hawkes_in(mu,alpha,beta,T,ite):\n",
    "    # mu: the predicted zonal trip arrivals' rate at zone at previous time slot\n",
    "    n=1\n",
    "    num=[]\n",
    "    while n<ite: # since hawkes is a stochastic process, the result is random with ranges. so we simulate n times then get the average value\n",
    "        T=60 #set time interval as 60 min, so the mu should be no.s/min\n",
    "        #time period set for simulation: Time interval\n",
    "        #initiaization:\n",
    "        s = np.array([0]) #set s initial value as zero, checkin time (t or tp). last event time.\n",
    "        r = np.array([mu])\n",
    "        t = np.random.exponential(1/r[0])\n",
    "        U = np.random.random_sample()\n",
    "        rnew = mu + np.sum(alpha*np.exp(-beta*(t-s[0])))\n",
    "        #print (t,T,rnew/r[-1],U)\n",
    "        while t<T and rnew/r[-1]>=U:\n",
    "            #print (s)\n",
    "            rnew = mu + sum(alpha*np.exp(-beta*(t-s)))#hawk process equation\n",
    "            s=np.append(s,t)\n",
    "            r=np.append(r,rnew)\n",
    "    #generate a new event\n",
    "            delta_t = np.random.exponential(1/rnew)\n",
    "            t = t+delta_t #this is the new t: event time boundary\n",
    "            U = np.random.random_sample()\n",
    "        num.append(len(s)-1)\n",
    "        n=n+1\n",
    "    num=round(np.mean(num))\n",
    "    return num"
   ]
  },
  {
   "cell_type": "code",
   "execution_count": 170,
   "metadata": {},
   "outputs": [],
   "source": [
    "df=pd.read_pickle('firehoseTAZ')"
   ]
  },
  {
   "cell_type": "code",
   "execution_count": 171,
   "metadata": {},
   "outputs": [
    {
     "data": {
      "text/html": [
       "<div>\n",
       "<style scoped>\n",
       "    .dataframe tbody tr th:only-of-type {\n",
       "        vertical-align: middle;\n",
       "    }\n",
       "\n",
       "    .dataframe tbody tr th {\n",
       "        vertical-align: top;\n",
       "    }\n",
       "\n",
       "    .dataframe thead th {\n",
       "        text-align: right;\n",
       "    }\n",
       "</style>\n",
       "<table border=\"1\" class=\"dataframe\">\n",
       "  <thead>\n",
       "    <tr style=\"text-align: right;\">\n",
       "      <th></th>\n",
       "      <th>time</th>\n",
       "      <th>cate</th>\n",
       "      <th>TAZ</th>\n",
       "    </tr>\n",
       "  </thead>\n",
       "  <tbody>\n",
       "    <tr>\n",
       "      <th>0</th>\n",
       "      <td>2017-01-01 00:02:56</td>\n",
       "      <td>Food</td>\n",
       "      <td>95</td>\n",
       "    </tr>\n",
       "    <tr>\n",
       "      <th>1</th>\n",
       "      <td>2017-01-01 00:07:38</td>\n",
       "      <td>Professional &amp; Other Places</td>\n",
       "      <td>95</td>\n",
       "    </tr>\n",
       "    <tr>\n",
       "      <th>2</th>\n",
       "      <td>2017-01-01 00:19:20</td>\n",
       "      <td>Food</td>\n",
       "      <td>95</td>\n",
       "    </tr>\n",
       "    <tr>\n",
       "      <th>3</th>\n",
       "      <td>2017-01-01 00:19:25</td>\n",
       "      <td>Food</td>\n",
       "      <td>95</td>\n",
       "    </tr>\n",
       "    <tr>\n",
       "      <th>4</th>\n",
       "      <td>2017-01-01 00:21:18</td>\n",
       "      <td>Nightlife Spot</td>\n",
       "      <td>95</td>\n",
       "    </tr>\n",
       "  </tbody>\n",
       "</table>\n",
       "</div>"
      ],
      "text/plain": [
       "                 time                         cate  TAZ\n",
       "0 2017-01-01 00:02:56                         Food   95\n",
       "1 2017-01-01 00:07:38  Professional & Other Places   95\n",
       "2 2017-01-01 00:19:20                         Food   95\n",
       "3 2017-01-01 00:19:25                         Food   95\n",
       "4 2017-01-01 00:21:18               Nightlife Spot   95"
      ]
     },
     "execution_count": 171,
     "metadata": {},
     "output_type": "execute_result"
    }
   ],
   "source": [
    "df.head()"
   ]
  },
  {
   "cell_type": "code",
   "execution_count": 172,
   "metadata": {},
   "outputs": [],
   "source": [
    "df['hour_of_day'] = df['time'].dt.hour"
   ]
  },
  {
   "cell_type": "code",
   "execution_count": 192,
   "metadata": {},
   "outputs": [],
   "source": [
    "n=318 # n is the taz number\n",
    "t=24 # t is the hour of day\n",
    "checkin=np.zeros([n,t])"
   ]
  },
  {
   "cell_type": "code",
   "execution_count": 193,
   "metadata": {},
   "outputs": [],
   "source": [
    "for i in range(len(df)):\n",
    "    taz=df.iloc[i][2]-1\n",
    "    h=df.iloc[i][3]-1\n",
    "    checkin[taz][h]+=1"
   ]
  },
  {
   "cell_type": "code",
   "execution_count": 198,
   "metadata": {},
   "outputs": [],
   "source": [
    "alpha=numpy.load('alpha.npy') #calibrated alpha\n",
    "beta=numpy.load('beta.npy') #calibrated beta\n",
    "delta=numpy.load('delta.npy') #calibrated delta\n",
    "gamma=numpy.load('gamma.npy') #calibrated delta\n",
    "T=60\n",
    "ite=1000"
   ]
  },
  {
   "cell_type": "code",
   "execution_count": 199,
   "metadata": {},
   "outputs": [],
   "source": [
    "trips=numpy.load('wp.npy') # for warm up period\n",
    "for i in range(n):\n",
    "    for t in range(1,t):\n",
    "        trips[i][t]=delta[i][t]*Hawkes_in(trips[i][t-1]/T,alpha[i][t],beta[i][t],T,ite)+delta[i][t]*gamma[i][t]*checkin[i][t]"
   ]
  },
  {
   "cell_type": "markdown",
   "metadata": {},
   "source": [
    "### trips is the predicted trip arrival"
   ]
  }
 ],
 "metadata": {
  "kernelspec": {
   "display_name": "Python 3",
   "language": "python",
   "name": "python3"
  },
  "language_info": {
   "codemirror_mode": {
    "name": "ipython",
    "version": 3
   },
   "file_extension": ".py",
   "mimetype": "text/x-python",
   "name": "python",
   "nbconvert_exporter": "python",
   "pygments_lexer": "ipython3",
   "version": "3.6.5"
  }
 },
 "nbformat": 4,
 "nbformat_minor": 2
}

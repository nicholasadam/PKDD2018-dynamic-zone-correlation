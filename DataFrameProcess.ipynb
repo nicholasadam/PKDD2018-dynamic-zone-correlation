{
 "cells": [
  {
   "cell_type": "markdown",
   "metadata": {},
   "source": [
    "## This .ipynb file is to process raw foursquare data to dataframe for later urban profiling, trip arrival estimation, zone correlation, and dynamic OD estimation"
   ]
  },
  {
   "cell_type": "code",
   "execution_count": 1,
   "metadata": {},
   "outputs": [],
   "source": [
    "import pandas as pd\n",
    "import json\n",
    "from pandas.io.json import json_normalize    \n",
    "from tqdm import tqdm\n",
    "import os\n",
    "import pickle\n",
    "import geopandas as gpd\n",
    "import requests\n",
    "from shapely.geometry import Point\n",
    "import foursquare"
   ]
  },
  {
   "cell_type": "markdown",
   "metadata": {},
   "source": [
    "### We need to collected POI category information from Foursquare Venue Hierarchy "
   ]
  },
  {
   "cell_type": "code",
   "execution_count": 2,
   "metadata": {},
   "outputs": [
    {
     "name": "stdout",
     "output_type": "stream",
     "text": [
      "C:\\Users\\Nicholas\\Dropbox\\2017.09.19 18PKDD Urban Zonal Correlation\\github page\n"
     ]
    }
   ],
   "source": [
    "cd C:\\Users\\Nicholas\\Dropbox\\2017.09.19 18PKDD Urban Zonal Correlation\\github page"
   ]
  },
  {
   "cell_type": "code",
   "execution_count": 3,
   "metadata": {},
   "outputs": [],
   "source": [
    "# client_id & client_secret obtained from foursquare API home by registering a client\n",
    "client_id = ''\n",
    "client_secret = ''\n",
    "\n",
    "client = foursquare.Foursquare(client_id=client_id, client_secret=client_secret)\n",
    "\n",
    "out = open('foursquare-categories.json', 'w')\n",
    "out.write(json.dumps(client.venues.categories(), sort_keys=True, indent=4))\n",
    "out.close()"
   ]
  },
  {
   "cell_type": "code",
   "execution_count": 4,
   "metadata": {},
   "outputs": [],
   "source": [
    "filename='foursquare-categories.json'\n",
    "with open(filename, 'r') as f:\n",
    "        datastore = json.load(f)"
   ]
  },
  {
   "cell_type": "markdown",
   "metadata": {},
   "source": [
    "### the following code is for specific use of certain level of category, as i know, foursquare contain at leaset five level. For my research, I only map the first level (9 types)"
   ]
  },
  {
   "cell_type": "code",
   "execution_count": 5,
   "metadata": {},
   "outputs": [],
   "source": [
    "hierarchical={}\n",
    "for i in range(len(datastore['categories'])):\n",
    "    hierarchical[datastore['categories'][i]['id']]=datastore['categories'][i]['name']\n",
    "    for j in range(len(datastore['categories'][i]['categories'])):\n",
    "        hierarchical[datastore['categories'][i]['categories'][j]['id']]=datastore['categories'][i]['name']\n",
    "        for k in range(len(datastore['categories'][i]['categories'][j]['categories'])):\n",
    "            hierarchical[datastore['categories'][i]['categories'][j]['categories'][k]['id']]=datastore['categories'][i]['name']\n",
    "            for l in range(len(datastore['categories'][i]['categories'][j]['categories'][k]['categories'])):\n",
    "                hierarchical[datastore['categories'][i]['categories'][j]['categories'][k]['categories'][l]['id']]=datastore['categories'][i]['name']\n",
    "                for m in range(len(datastore['categories'][i]['categories'][j]['categories'][k]['categories'][l]['categories'])):\n",
    "                    hierarchical[datastore['categories'][i]['categories'][j]['categories'][k]['categories'][l]['categories'][m]['id']]=datastore['categories'][i]['name']\n",
    "                    for n in range(len(datastore['categories'][i]['categories'][j]['categories'][k]['categories'][l]['categories'][m]['categories'])):\n",
    "                        hierarchical[datastore['categories'][i]['categories'][j]['categories'][k]['categories'][l]['categories'][m]['categories'][n]['id']]=datastore['categories'][i]['name']"
   ]
  },
  {
   "cell_type": "code",
   "execution_count": 6,
   "metadata": {},
   "outputs": [
    {
     "name": "stdout",
     "output_type": "stream",
     "text": [
      "C:\\Users\\Nicholas\\Dropbox\\2017.09.19 18PKDD Urban Zonal Correlation\\github page\\sampleData\n"
     ]
    }
   ],
   "source": [
    "cd C:\\Users\\Nicholas\\Dropbox\\2017.09.19 18PKDD Urban Zonal Correlation\\github page\\sampleData"
   ]
  },
  {
   "cell_type": "code",
   "execution_count": 7,
   "metadata": {},
   "outputs": [],
   "source": [
    "path_to_json = '.' ### the fold contains all foursquare data. In my study, foursquare data is archived in json format.\n",
    "json_files = [pos_json for pos_json in os.listdir(path_to_json) if pos_json.endswith('.json')]"
   ]
  },
  {
   "cell_type": "code",
   "execution_count": 8,
   "metadata": {},
   "outputs": [],
   "source": [
    "df = pd.DataFrame(columns=['time','lat','lng','cate'])\n",
    "df.to_pickle('firehose')\n",
    "df = pd.read_pickle('firehose')"
   ]
  },
  {
   "cell_type": "code",
   "execution_count": 9,
   "metadata": {},
   "outputs": [],
   "source": [
    "bb=[[-74.0516,-73.9038],[40.6818,40.8832]] ###[lng, lat] for study area. In my study, it is Mahattan Island area of New York City."
   ]
  },
  {
   "cell_type": "code",
   "execution_count": 10,
   "metadata": {},
   "outputs": [
    {
     "name": "stdout",
     "output_type": "stream",
     "text": [
      "firehose.20170101-00.json\n"
     ]
    }
   ],
   "source": [
    "for js in json_files:\n",
    "    print (js)\n",
    "    json_text = pd.read_json(js, lines=True)\n",
    "    if len(json_text)!=0:\n",
    "        time=pd.to_datetime((json_text['createdAt']+json_text['timeZoneOffset']*60), unit='s').rename(\"time\")\n",
    "        location=json_normalize(json_text['venue'])\n",
    "        lat = location['location.lat'].rename(\"lat\")\n",
    "        lat = lat[lat.between(bb[1][0],bb[1][1])]\n",
    "        lng = location['location.lng'].rename(\"lng\")\n",
    "        lng = lng[lng.between(bb[0][0],bb[0][1])]\n",
    "        cate=json_normalize(location['categories'].str[0].dropna())['id'].rename(\"cate\").map(hierarchical)\n",
    "        tmp = pd.concat([time, lat, lng, cate], axis=1)\n",
    "        tmp=tmp.dropna().reset_index(drop=True)\n",
    "        df = pd.read_pickle('firehose')\n",
    "        df = pd.concat([df, tmp], axis=0)\n",
    "        df.to_pickle('firehose')\n",
    "        del df\n",
    "### now everything is stored in one datafram and pickcle file\n",
    "df = pd.read_pickle('firehose')"
   ]
  },
  {
   "cell_type": "code",
   "execution_count": 11,
   "metadata": {},
   "outputs": [
    {
     "data": {
      "text/html": [
       "<div>\n",
       "<style scoped>\n",
       "    .dataframe tbody tr th:only-of-type {\n",
       "        vertical-align: middle;\n",
       "    }\n",
       "\n",
       "    .dataframe tbody tr th {\n",
       "        vertical-align: top;\n",
       "    }\n",
       "\n",
       "    .dataframe thead th {\n",
       "        text-align: right;\n",
       "    }\n",
       "</style>\n",
       "<table border=\"1\" class=\"dataframe\">\n",
       "  <thead>\n",
       "    <tr style=\"text-align: right;\">\n",
       "      <th></th>\n",
       "      <th>time</th>\n",
       "      <th>lat</th>\n",
       "      <th>lng</th>\n",
       "      <th>cate</th>\n",
       "    </tr>\n",
       "  </thead>\n",
       "  <tbody>\n",
       "    <tr>\n",
       "      <th>0</th>\n",
       "      <td>2017-01-01 00:02:56</td>\n",
       "      <td>40.747904</td>\n",
       "      <td>-73.986685</td>\n",
       "      <td>Food</td>\n",
       "    </tr>\n",
       "    <tr>\n",
       "      <th>1</th>\n",
       "      <td>2017-01-01 00:03:04</td>\n",
       "      <td>40.705628</td>\n",
       "      <td>-73.921426</td>\n",
       "      <td>Shop &amp; Service</td>\n",
       "    </tr>\n",
       "    <tr>\n",
       "      <th>2</th>\n",
       "      <td>2017-01-01 00:03:31</td>\n",
       "      <td>40.751739</td>\n",
       "      <td>-73.986051</td>\n",
       "      <td>Travel &amp; Transport</td>\n",
       "    </tr>\n",
       "    <tr>\n",
       "      <th>3</th>\n",
       "      <td>2017-01-01 00:03:31</td>\n",
       "      <td>40.751739</td>\n",
       "      <td>-73.986051</td>\n",
       "      <td>Shop &amp; Service</td>\n",
       "    </tr>\n",
       "    <tr>\n",
       "      <th>4</th>\n",
       "      <td>2017-01-01 00:03:34</td>\n",
       "      <td>40.743954</td>\n",
       "      <td>-73.996940</td>\n",
       "      <td>Food</td>\n",
       "    </tr>\n",
       "  </tbody>\n",
       "</table>\n",
       "</div>"
      ],
      "text/plain": [
       "                 time        lat        lng                cate\n",
       "0 2017-01-01 00:02:56  40.747904 -73.986685                Food\n",
       "1 2017-01-01 00:03:04  40.705628 -73.921426      Shop & Service\n",
       "2 2017-01-01 00:03:31  40.751739 -73.986051  Travel & Transport\n",
       "3 2017-01-01 00:03:31  40.751739 -73.986051      Shop & Service\n",
       "4 2017-01-01 00:03:34  40.743954 -73.996940                Food"
      ]
     },
     "execution_count": 11,
     "metadata": {},
     "output_type": "execute_result"
    }
   ],
   "source": [
    "df.head() ### now all 1-level cate has been assigned to every record"
   ]
  },
  {
   "cell_type": "markdown",
   "metadata": {},
   "source": [
    "### Now we need to do spatial join to get aggregate-level check-in. In this study, we use census tract level as my spatial resolution"
   ]
  },
  {
   "cell_type": "code",
   "execution_count": 12,
   "metadata": {},
   "outputs": [],
   "source": [
    "geom = df.apply(lambda x : Point([x['lng'],x['lat']]), axis=1)"
   ]
  },
  {
   "cell_type": "code",
   "execution_count": 13,
   "metadata": {},
   "outputs": [
    {
     "data": {
      "text/html": [
       "<div>\n",
       "<style scoped>\n",
       "    .dataframe tbody tr th:only-of-type {\n",
       "        vertical-align: middle;\n",
       "    }\n",
       "\n",
       "    .dataframe tbody tr th {\n",
       "        vertical-align: top;\n",
       "    }\n",
       "\n",
       "    .dataframe thead th {\n",
       "        text-align: right;\n",
       "    }\n",
       "</style>\n",
       "<table border=\"1\" class=\"dataframe\">\n",
       "  <thead>\n",
       "    <tr style=\"text-align: right;\">\n",
       "      <th></th>\n",
       "      <th>time</th>\n",
       "      <th>lat</th>\n",
       "      <th>lng</th>\n",
       "      <th>cate</th>\n",
       "      <th>geometry</th>\n",
       "    </tr>\n",
       "  </thead>\n",
       "  <tbody>\n",
       "    <tr>\n",
       "      <th>0</th>\n",
       "      <td>2017-01-01 00:02:56</td>\n",
       "      <td>40.747904</td>\n",
       "      <td>-73.986685</td>\n",
       "      <td>Food</td>\n",
       "      <td>POINT (-73.9866845613309 40.74790388657718)</td>\n",
       "    </tr>\n",
       "    <tr>\n",
       "      <th>1</th>\n",
       "      <td>2017-01-01 00:03:04</td>\n",
       "      <td>40.705628</td>\n",
       "      <td>-73.921426</td>\n",
       "      <td>Shop &amp; Service</td>\n",
       "      <td>POINT (-73.92142641765564 40.70562774921207)</td>\n",
       "    </tr>\n",
       "    <tr>\n",
       "      <th>2</th>\n",
       "      <td>2017-01-01 00:03:31</td>\n",
       "      <td>40.751739</td>\n",
       "      <td>-73.986051</td>\n",
       "      <td>Travel &amp; Transport</td>\n",
       "      <td>POINT (-73.986051 40.751739)</td>\n",
       "    </tr>\n",
       "    <tr>\n",
       "      <th>3</th>\n",
       "      <td>2017-01-01 00:03:31</td>\n",
       "      <td>40.751739</td>\n",
       "      <td>-73.986051</td>\n",
       "      <td>Shop &amp; Service</td>\n",
       "      <td>POINT (-73.986051 40.751739)</td>\n",
       "    </tr>\n",
       "    <tr>\n",
       "      <th>4</th>\n",
       "      <td>2017-01-01 00:03:34</td>\n",
       "      <td>40.743954</td>\n",
       "      <td>-73.996940</td>\n",
       "      <td>Food</td>\n",
       "      <td>POINT (-73.99693994448383 40.74395351562067)</td>\n",
       "    </tr>\n",
       "  </tbody>\n",
       "</table>\n",
       "</div>"
      ],
      "text/plain": [
       "                 time        lat        lng                cate  \\\n",
       "0 2017-01-01 00:02:56  40.747904 -73.986685                Food   \n",
       "1 2017-01-01 00:03:04  40.705628 -73.921426      Shop & Service   \n",
       "2 2017-01-01 00:03:31  40.751739 -73.986051  Travel & Transport   \n",
       "3 2017-01-01 00:03:31  40.751739 -73.986051      Shop & Service   \n",
       "4 2017-01-01 00:03:34  40.743954 -73.996940                Food   \n",
       "\n",
       "                                       geometry  \n",
       "0   POINT (-73.9866845613309 40.74790388657718)  \n",
       "1  POINT (-73.92142641765564 40.70562774921207)  \n",
       "2                  POINT (-73.986051 40.751739)  \n",
       "3                  POINT (-73.986051 40.751739)  \n",
       "4  POINT (-73.99693994448383 40.74395351562067)  "
      ]
     },
     "execution_count": 13,
     "metadata": {},
     "output_type": "execute_result"
    }
   ],
   "source": [
    "df = gpd.GeoDataFrame(df, geometry=geom)\n",
    "df.crs = {'init' :'epsg:4326'}\n",
    "df.head()"
   ]
  },
  {
   "cell_type": "code",
   "execution_count": 14,
   "metadata": {},
   "outputs": [
    {
     "name": "stdout",
     "output_type": "stream",
     "text": [
      "C:\\Users\\Nicholas\\Dropbox\\2017.09.19 18PKDD Urban Zonal Correlation\\github page\n"
     ]
    }
   ],
   "source": [
    "cd C:\\Users\\Nicholas\\Dropbox\\2017.09.19 18PKDD Urban Zonal Correlation\\github page"
   ]
  },
  {
   "cell_type": "code",
   "execution_count": 15,
   "metadata": {},
   "outputs": [
    {
     "data": {
      "text/html": [
       "<div>\n",
       "<style scoped>\n",
       "    .dataframe tbody tr th:only-of-type {\n",
       "        vertical-align: middle;\n",
       "    }\n",
       "\n",
       "    .dataframe tbody tr th {\n",
       "        vertical-align: top;\n",
       "    }\n",
       "\n",
       "    .dataframe thead th {\n",
       "        text-align: right;\n",
       "    }\n",
       "</style>\n",
       "<table border=\"1\" class=\"dataframe\">\n",
       "  <thead>\n",
       "    <tr style=\"text-align: right;\">\n",
       "      <th></th>\n",
       "      <th>TAZ</th>\n",
       "      <th>geometry</th>\n",
       "    </tr>\n",
       "  </thead>\n",
       "  <tbody>\n",
       "    <tr>\n",
       "      <th>0</th>\n",
       "      <td>1</td>\n",
       "      <td>(POLYGON ((-74.01683300000001 40.705454, -74.0...</td>\n",
       "    </tr>\n",
       "    <tr>\n",
       "      <th>1</th>\n",
       "      <td>2</td>\n",
       "      <td>(POLYGON ((-74.01317400000001 40.719443, -74.0...</td>\n",
       "    </tr>\n",
       "    <tr>\n",
       "      <th>2</th>\n",
       "      <td>3</td>\n",
       "      <td>(POLYGON ((-74.027877 40.684782, -74.0278 40.6...</td>\n",
       "    </tr>\n",
       "    <tr>\n",
       "      <th>3</th>\n",
       "      <td>4</td>\n",
       "      <td>(POLYGON ((-74.008641 40.703439, -74.009623 40...</td>\n",
       "    </tr>\n",
       "    <tr>\n",
       "      <th>4</th>\n",
       "      <td>5</td>\n",
       "      <td>(POLYGON ((-74.005233 40.705619, -74.005645 40...</td>\n",
       "    </tr>\n",
       "  </tbody>\n",
       "</table>\n",
       "</div>"
      ],
      "text/plain": [
       "   TAZ                                           geometry\n",
       "0    1  (POLYGON ((-74.01683300000001 40.705454, -74.0...\n",
       "1    2  (POLYGON ((-74.01317400000001 40.719443, -74.0...\n",
       "2    3  (POLYGON ((-74.027877 40.684782, -74.0278 40.6...\n",
       "3    4  (POLYGON ((-74.008641 40.703439, -74.009623 40...\n",
       "4    5  (POLYGON ((-74.005233 40.705619, -74.005645 40..."
      ]
     },
     "execution_count": 15,
     "metadata": {},
     "output_type": "execute_result"
    }
   ],
   "source": [
    "geojson_file = 'nycGeo.geojson'\n",
    "TAZ = gpd.read_file(geojson_file)[['TAZ','geometry']]\n",
    "TAZ.head()"
   ]
  },
  {
   "cell_type": "code",
   "execution_count": 16,
   "metadata": {},
   "outputs": [],
   "source": [
    "dfTAZ = gpd.sjoin(df, TAZ, op='within')\n",
    "dfTAZ=dfTAZ[['time','cate','TAZ']].reset_index(drop=True)"
   ]
  },
  {
   "cell_type": "code",
   "execution_count": 17,
   "metadata": {},
   "outputs": [
    {
     "data": {
      "text/html": [
       "<div>\n",
       "<style scoped>\n",
       "    .dataframe tbody tr th:only-of-type {\n",
       "        vertical-align: middle;\n",
       "    }\n",
       "\n",
       "    .dataframe tbody tr th {\n",
       "        vertical-align: top;\n",
       "    }\n",
       "\n",
       "    .dataframe thead th {\n",
       "        text-align: right;\n",
       "    }\n",
       "</style>\n",
       "<table border=\"1\" class=\"dataframe\">\n",
       "  <thead>\n",
       "    <tr style=\"text-align: right;\">\n",
       "      <th></th>\n",
       "      <th>time</th>\n",
       "      <th>cate</th>\n",
       "      <th>TAZ</th>\n",
       "    </tr>\n",
       "  </thead>\n",
       "  <tbody>\n",
       "    <tr>\n",
       "      <th>0</th>\n",
       "      <td>2017-01-01 00:02:56</td>\n",
       "      <td>Food</td>\n",
       "      <td>95</td>\n",
       "    </tr>\n",
       "    <tr>\n",
       "      <th>1</th>\n",
       "      <td>2017-01-01 00:07:38</td>\n",
       "      <td>Professional &amp; Other Places</td>\n",
       "      <td>95</td>\n",
       "    </tr>\n",
       "    <tr>\n",
       "      <th>2</th>\n",
       "      <td>2017-01-01 00:19:20</td>\n",
       "      <td>Food</td>\n",
       "      <td>95</td>\n",
       "    </tr>\n",
       "    <tr>\n",
       "      <th>3</th>\n",
       "      <td>2017-01-01 00:19:25</td>\n",
       "      <td>Food</td>\n",
       "      <td>95</td>\n",
       "    </tr>\n",
       "    <tr>\n",
       "      <th>4</th>\n",
       "      <td>2017-01-01 00:21:18</td>\n",
       "      <td>Nightlife Spot</td>\n",
       "      <td>95</td>\n",
       "    </tr>\n",
       "  </tbody>\n",
       "</table>\n",
       "</div>"
      ],
      "text/plain": [
       "                 time                         cate  TAZ\n",
       "0 2017-01-01 00:02:56                         Food   95\n",
       "1 2017-01-01 00:07:38  Professional & Other Places   95\n",
       "2 2017-01-01 00:19:20                         Food   95\n",
       "3 2017-01-01 00:19:25                         Food   95\n",
       "4 2017-01-01 00:21:18               Nightlife Spot   95"
      ]
     },
     "execution_count": 17,
     "metadata": {},
     "output_type": "execute_result"
    }
   ],
   "source": [
    "dfTAZ.head()"
   ]
  },
  {
   "cell_type": "code",
   "execution_count": 18,
   "metadata": {},
   "outputs": [],
   "source": [
    "dfTAZ.to_pickle('firehoseTAZ')"
   ]
  },
  {
   "cell_type": "markdown",
   "metadata": {},
   "source": [
    "### now the datafram has been processed."
   ]
  }
 ],
 "metadata": {
  "kernelspec": {
   "display_name": "Python 3",
   "language": "python",
   "name": "python3"
  },
  "language_info": {
   "codemirror_mode": {
    "name": "ipython",
    "version": 3
   },
   "file_extension": ".py",
   "mimetype": "text/x-python",
   "name": "python",
   "nbconvert_exporter": "python",
   "pygments_lexer": "ipython3",
   "version": "3.5.4"
  }
 },
 "nbformat": 4,
 "nbformat_minor": 2
}
